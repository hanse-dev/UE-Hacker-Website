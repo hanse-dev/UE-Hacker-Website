{
 "cells": [
  {
   "cell_type": "markdown",
   "metadata": {},
   "source": [
    "## Woche 3 – Bedingungen & Logische Abenteuer"
   ]
  },
  {
   "cell_type": "markdown",
   "metadata": {},
   "source": [
    "### Projekt: \"Interaktiver Pfad-Entscheider\"\n",
    "Wir programmieren eine Geschichte, in der der Benutzer Entscheidungen trifft, die den Verlauf der Handlung bestimmen."
   ]
  },
  {
   "cell_type": "markdown",
   "metadata": {},
   "source": [
    "### Was sind Bedingungen?\n",
    "In Python (und im Leben!) müssen wir oft Entscheidungen treffen. Daf\u00fcr nutzen wir `if`, `elif` und `else`.\n",
    "- **`if`** (wenn): F\u00fchrt Code aus, **wenn** eine Bedingung wahr ist.\n",
    "- **`elif`** (sonst wenn): Wird gepr\u00fcft, wenn die `if`-Bedingung falsch war. Man kann beliebig viele `elif`-Bl\u00f6cke haben.\n",
    "- **`else`** (sonst): F\u00fchrt Code aus, wenn **alle** vorherigen `if`- und `elif`-Bedingungen falsch waren."
   ]
  },
  {
   "cell_type": "markdown",
   "metadata": {},
   "source": [
    "### Vergleichsoperatoren\n",
    "Um Bedingungen zu formulieren, brauchen wir Vergleichsoperatoren:\n",
    "- `==`: Gleich (z.B. `alter == 14`)\n",
    "- `!=`: Ungleich (z.B. `name != \"Alex\"`)\n",
    "- `<`: Kleiner als\n",
    "- `>`: Gr\u00f6\u00dfer als\n",
    "- `<=`: Kleiner oder gleich\n",
    "- `>=`: Gr\u00f6\u00dfer oder gleich"
   ]
  },
  {
   "cell_type": "code",
   "execution_count": null,
   "metadata": {},
   "outputs": [],
   "source": [
    "alter = 14\n",
    "name = \"Alex\"\n",
    "if alter >= 14:\n",
    "    print(\"Du bist alt genug!\")\n",
    "if name != \"Peter\":\n",
    "    print(\"Du bist nicht Peter!\")"
   ]
  },
  {
   "cell_type": "markdown",
   "metadata": {},
   "source": [
    "### Logische Operatoren\n",
    "Man kann Bedingungen mit `and`, `or` und `not` verkn\u00fcpfen:\n",
    "- **`and`**: Beide Bedingungen m\u00fcssen wahr sein.\n",
    "- **`or`**: Mindestens eine der Bedingungen muss wahr sein.\n",
    "- **`not`**: Kehrt den Wahrheitswert einer Bedingung um (aus `True` wird `False`)."
   ]
  },
  {
   "cell_type": "code",
   "execution_count": null,
   "metadata": {},
   "outputs": [],
   "source": [
    "alter = 18\n",
    "hat_fuehrerschein = True\n",
    "if alter == 18 and hat_fuehrerschein:\n",
    "    print(\"Du darfst alleine Auto fahren.\")\n",
    "muede = False\n",
    "if not muede:\n",
    "    print(\"Noch fit f\u00fcr eine Runde zocken!\")"
   ]
  },
  {
   "cell_type": "markdown",
   "metadata": {},
   "source": [
    "## Finde den Fehler!"
   ]
  },
  {
   "cell_type": "markdown",
   "metadata": {},
   "source": [
    "### Beispiel 1"
   ]
  },
  {
   "cell_type": "code",
   "execution_count": null,
   "metadata": {},
   "outputs": [],
   "source": [
    "# Finde den Fehler in diesem Code!\n",
    "alter_text = input(\"Gib dein Alter ein: \")\n",
    "if alter_text = 18:\n",
    "    print(\"Du bist genau 18 Jahre alt!\")"
   ]
  },
  {
   "cell_type": "markdown",
   "metadata": {},
   "source": [
    "#### L\u00f6sung"
   ]
  },
  {
   "cell_type": "markdown",
   "metadata": {},
   "source": [
    "`if`-Bedingung braucht `==` und `input()` muss mit `int()` umgewandelt werden."
   ]
  },
  {
   "cell_type": "markdown",
   "metadata": {},
   "source": [
    "### Beispiel 2"
   ]
  },
  {
   "cell_type": "code",
   "execution_count": null,
   "metadata": {},
   "outputs": [],
   "source": [
    "# Und was ist hier falsch?\n",
    "wetter = \"sonnig\"\n",
    "if wetter == \"sonnig\":\n",
    "print(\"Zieh eine Sonnenbrille an!\")\n",
    "else:\n",
    "    print(\"Du brauchst heute keine Sonnenbrille.\")"
   ]
  },
  {
   "cell_type": "markdown",
   "metadata": {},
   "source": [
    "#### L\u00f6sung"
   ]
  },
  {
   "cell_type": "markdown",
   "metadata": {},
   "source": [
    "Der Code nach `if` muss einger\u00fcckt sein."
   ]
  },
  {
   "cell_type": "markdown",
   "metadata": {},
   "source": [
    "### Beispiel 3 (schwierig)"
   ]
  },
  {
   "cell_type": "code",
   "execution_count": null,
   "metadata": {},
   "outputs": [],
   "source": [
    "# Was stimmt hier nicht?\n",
    "alter = input(\"Wie alt bist du? \")\n",
    "hat_ticket = True\n",
    "if alter > 12 and alter < 20 and hat_ticket:\n",
    "    print(\"Willkommen im Teenager-Konzert!\")\n",
    "else:\n",
    "    print(\"Leider kein Zutritt.\")"
   ]
  },
  {
   "cell_type": "markdown",
   "metadata": {},
   "source": [
    "#### L\u00f6sung"
   ]
  },
  {
   "cell_type": "markdown",
   "metadata": {},
   "source": [
    "`input()` gibt einen String zur\u00fcck. `alter` muss mit `int(alter)` umgewandelt werden."
   ]
  },
  {
   "cell_type": "markdown",
   "metadata": {},
   "source": [
    "## Verschachtelte Bedingungen"
   ]
  },
  {
   "cell_type": "code",
   "execution_count": null,
   "metadata": {},
   "outputs": [],
   "source": [
    "alter = 16\n",
    "hat_eltern_erlaubnis = \"ja\"\n",
    "if alter >= 16:\n",
    "    if hat_eltern_erlaubnis == \"ja\":\n",
    "        print(\"Viel Spa\u00df im Kino!\")\n",
    "    else:\n",
    "        print(\"Du brauchst Erlaubnis.\")\n",
    "else:\n",
    "    print(\"Du bist zu jung.\")"
   ]
  },
  {
   "cell_type": "markdown",
   "metadata": {},
   "source": [
    "## Interaktive Aufgaben"
   ]
  },
  {
   "cell_type": "markdown",
   "metadata": {},
   "source": [
    "### Aufgabe 1: Einfaches Abenteuer\n",
    "Grundger\u00fcst der Geschichte:\n",
    "- **Stelle** dem Benutzer eine Frage, die eine Entscheidung erfordert (z.B. \"Gehst du links oder rechts?\").\n",
    "- **Nutze** eine `if-else`-Struktur, um je nach Antwort einen anderen Text auszugeben."
   ]
  },
  {
   "cell_type": "code",
   "execution_count": null,
   "metadata": {},
   "outputs": [],
   "source": [
    "# Dein Code hier"
   ]
  },
  {
   "cell_type": "markdown",
   "metadata": {},
   "source": [
    "#### L\u00f6sungsvorschlag"
   ]
  },
  {
   "cell_type": "code",
   "execution_count": null,
   "metadata": {},
   "outputs": [],
   "source": [
    "richtung = input(\"Gehst du links oder rechts? \")\n",
    "if richtung == \"links\":\n",
    "    print(\"Du findest einen Schatz!\")\n",
    "else:\n",
    "    print(\"Du triffst einen Drachen!\")"
   ]
  },
  {
   "cell_type": "markdown",
   "metadata": {},
   "source": [
    "### Erweiterte Aufgabe\n",
    "- Baue eine `elif`-Bedingung ein, um eine dritte Option zu erm\u00f6glichen.\n",
    "- Frage nach einer Zahl (z.B. dem Alter) und reagiere unterschiedlich, je nachdem, ob die Zahl gr\u00f6\u00dfer, kleiner oder gleich einem bestimmten Wert ist."
   ]
  },
  {
   "cell_type": "code",
   "execution_count": null,
   "metadata": {},
   "outputs": [],
   "source": [
    "# Dein Code hier"
   ]
  },
  {
   "cell_type": "markdown",
   "metadata": {},
   "source": [
    "#### L\u00f6sungsvorschlag"
   ]
  },
  {
   "cell_type": "code",
   "execution_count": null,
   "metadata": {},
   "outputs": [],
   "source": [
    "alter = int(input(\"Wie alt ist der Held? \"))\n",
    "if alter < 18:\n",
    "    print(\"Der Held ist zu jung.\")\n",
    "elif alter == 18:\n",
    "    print(\"Der Held ist bereit!\")\n",
    "else:\n",
    "    print(\"Der erfahrene Held stellt sich der Gefahr!\")"
   ]
  },
  {
   "cell_type": "markdown",
   "metadata": {},
   "source": [
    "### Kreativaufgabe\n",
    "- Erfinde ein kleines Abenteuer mit mindestens zwei aufeinanderfolgenden Entscheidungen (verschachtelte `if`-Anweisungen). Der Weg des Benutzers durch die Geschichte \u00e4ndert sich basierend auf seinen Antworten."
   ]
  },
  {
   "cell_type": "code",
   "execution_count": null,
   "metadata": {},
   "outputs": [],
   "source": [
    "# Dein Code hier"
   ]
  },
  {
   "cell_type": "markdown",
   "metadata": {},
   "source": [
    "#### L\u00f6sungsvorschlag"
   ]
  },
  {
   "cell_type": "code",
   "execution_count": null,
   "metadata": {},
   "outputs": [],
   "source": [
    "entscheidung1 = input(\"Gehst du in die H\u00f6hle oder den Wald? (h\u00f6hle/wald) \")\n",
    "if entscheidung1 == \"h\u00f6hle\":\n",
    "    entscheidung2 = input(\"Nimmst du die Fackel oder das Schwert? (fackel/schwert) \")\n",
    "    if entscheidung2 == \"fackel\":\n",
    "        print(\"Du erhellst die H\u00f6hle und findest einen Ausgang.\")\n",
    "    else:\n",
    "        print(\"Du k\u00e4mpfst gegen ein Monster!\")\n",
    "else:\n",
    "    print(\"Im Wald triffst du eine Elfe.\")"
   ]
  },
  {
   "cell_type": "markdown",
   "metadata": {},
   "source": [
    "### Reflexion:\n",
    "- Was passiert, wenn man bei der Eingabe die Gro\u00df- und Kleinschreibung nicht beachtet? Wie k\u00f6nnte man das Problem l\u00f6sen?\n",
    "- Wann w\u00fcrdest du `elif` anstelle von mehreren `if`-Anweisungen verwenden?\n",
    "- Was war die gr\u00f6\u00dfte Herausforderung beim Erstellen deines Abenteuers?"
   ]
  },
  {
   "cell_type": "markdown",
   "metadata": {},
   "source": [
    "### Review:\n",
    "- Stellt eure Abenteuer vor! Welche unterschiedlichen Wege kann man in euren Geschichten einschlagen?"
   ]
  },
  {
   "cell_type": "markdown",
   "metadata": {},
   "source": [
    "### Lernziele:\n",
    "- Bedingungen mit `if`, `elif` und `else` formulieren.\n",
    "- Vergleichs- (`==`, `>`, `<`) und logische Operatoren (`and`, `or`) anwenden.\n",
    "- Benutzereingaben nutzen, um den Programmfluss zu steuern."
   ]
  },
  {
   "cell_type": "markdown",
   "metadata": {},
   "source": [
    "### Zusammenfassung:\n",
    "Du hast heute gelernt, wie man Programme Entscheidungen treffen l\u00e4sst. \n",
    "Damit k\u00f6nnen deine Geschichten und Anwendungen auf verschiedene Eingaben unterschiedlich reagieren."
   ]
  },
  {
   "cell_type": "markdown",
   "metadata": {},
   "source": [
    "### Hausaufgaben"
   ]
  },
  {
   "cell_type": "markdown",
   "metadata": {},
   "source": [
    "#### 1. Der Club-T\u00fcrsteher 2.0\n",
    "Erweitere das Passwort-Programm zu einem Club-Einlass-Check.\n",
    "- Lege ein geheimes Codewort und ein Mindestalter fest.\n",
    "- Das Programm fragt nach dem Alter **und** dem Codewort.\n",
    "- Nutze `and`, um beide Bedingungen zu pr\u00fcfen.\n",
    "- Gib je nach Fall unterschiedliche, witzige Antworten aus:\n",
    "    - Alles richtig: \"Willkommen im Club der Super-Coder!\"\n",
    "    - Alter falsch: \"Sorry, du bist noch nicht alt genug f\u00fcr diesen exklusiven Code-Zirkel.\"\n",
    "    - Codewort falsch: \"Guter Versuch, aber das ist nicht das geheime Wort. Psst, versuch's mal mit 'Pythonista'!\"\n",
    "    - Beides falsch: \"Alter UND Codewort falsch? Ein Spion! Alarm!\""
   ]
  },
  {
   "cell_type": "code",
   "execution_count": null,
   "metadata": {},
   "outputs": [],
   "source": [
    "# Dein Code hier"
   ]
  },
  {
   "cell_type": "markdown",
   "metadata": {},
   "source": [
    "#### 2. Mini-Quiz: Bist du ein Tier-Experte?\n",
    "- Stelle dem Benutzer 2-3 Fragen \u00fcber Tiere (z.B. \"Wie viele Beine hat eine Spinne?\").\n",
    "- Nutze `if`/`elif`/`else`, um die (als Zahl eingegebene) Antwort zu pr\u00fcfen.\n",
    "- Gib am Ende eine kleine Auswertung: \"Wow, du bist ein echter Experte!\", \"Nicht schlecht, fast alles richtig!\" oder \"Das \u00fcben wir nochmal zusammen.\""
   ]
  },
  {
   "cell_type": "code",
   "execution_count": null,
   "metadata": {},
   "outputs": [],
   "source": [
    "# Dein Code hier"
   ]
  },
  {
   "cell_type": "markdown",
   "metadata": {},
   "source": [
    "#### 3. Das sprechende Haustier\n",
    "- Dein Programm ist ein digitales Haustier (z.B. eine m\u00fcrrische Katze oder ein hyperaktiver Hund).\n",
    "- Es fragt dich, was du tun m\u00f6chtest (z.B. \"f\u00fcttern\", \"streicheln\", \"spielen\").\n",
    "- Reagiere je nach Eingabe mit einer passenden `if-elif-else`-Struktur.\n",
    "    - \"f\u00fcttern\": \"Na endlich. Wurde auch Zeit.\"\n",
    "    - \"streicheln\": \"Ok, aber nur kurz. Ich muss wichtige Nickerchen halten.\"\n",
    "    - \"spielen\": \"Ball! Ball! WIRF DEN BALL!\"\n",
    "    - `else`: \"Was? Damit kann ich nichts anfangen. Geh weg.\"\n",
    "- Tipp: Wandle die Eingabe mit `.lower()` in Kleinbuchstaben um, damit auch \"Fütter\"n\" oder \"STREICHELN\" verstanden wird."
   ]
  },
  {
   "cell_type": "code",
   "execution_count": null,
   "metadata": {},
   "outputs": [],
   "source": [
    "# Dein Code hier"
   ]
  }
 ],
 "metadata": {
  "kernelspec": {
   "display_name": ".venv",
   "language": "python",
   "name": "python3"
  },
  "language_info": {
   "codemirror_mode": {
    "name": "ipython",
    "version": 3
   },
   "file_extension": ".py",
   "mimetype": "text/x-python",
   "name": "python",
   "nbconvert_exporter": "python",
   "pygments_lexer": "ipython3",
   "version": "3.13.7"
  }
 },
 "nbformat": 4,
 "nbformat_minor": 4
}
