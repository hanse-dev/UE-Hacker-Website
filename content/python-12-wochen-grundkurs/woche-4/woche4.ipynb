{
 "cells": [
  {
   "cell_type": "markdown",
   "metadata": {},
   "source": [
    "# Woche 4 – Schleifen & Wiederholungen"
   ]
  },
  {
   "cell_type": "markdown",
   "metadata": {},
   "source": [
    "## Projekt: „Der Countdown-Zähler & Das geheime Passwort“\n",
    "Wir bauen eine Raketen-Countdown-Anzeige und ein Programm, das so lange nach einem Passwort fragt, bis es richtig ist."
   ]
  },
  {
   "cell_type": "markdown",
   "metadata": {},
   "source": [
    "## Was sind Schleifen?\n",
    "Stell dir vor, du müsstest 100-mal \"Hallo\" untereinander schreiben. Das wäre mühsam! Schleifen nehmen uns diese Arbeit ab, indem sie Codeblöcke wiederholen."
   ]
  },
  {
   "cell_type": "markdown",
   "metadata": {},
   "source": [
    "### Die `for`-Schleife: Für eine bestimmte Anzahl\n",
    "Wenn du genau weißt, wie oft etwas wiederholt werden soll, ist die `for`-Schleife perfekt.\n",
    "- `range(5)` erzeugt die Zahlen 0, 1, 2, 3, 4. Die Schleife läuft also 5-mal.\n",
    "- Man kann auch durch die Buchstaben eines Wortes \"wandern\"."
   ]
  },
  {
   "cell_type": "code",
   "execution_count": null,
   "metadata": {},
   "outputs": [],
   "source": [
    "print(\"Zählen von 0 bis 4:\")\n",
    "for i in range(5):\n",
    "    print(i)\n",
    "\n",
    "print(\"\\nJeden Buchstaben einzeln ausgeben:\")\n",
    "for buchstabe in \"Hallo\":\n",
    "    print(buchstabe)"
   ]
  },
  {
   "cell_type": "markdown",
   "metadata": {},
   "source": [
    "### Die `while`-Schleife: Solange eine Bedingung wahr ist\n",
    "Wenn du etwas wiederholen möchtest, bis ein bestimmtes Ereignis eintritt (z.B. der Benutzer das richtige Wort eingibt), nutzt du eine `while`-Schleife.\n",
    "- Der Code in der Schleife wird ausgeführt, **solange** die Bedingung `True` (wahr) ist.\n",
    "- **Achtung:** Man muss dafür sorgen, dass die Bedingung irgendwann `False` (falsch) wird, sonst läuft die Schleife unendlich weiter!"
   ]
  },
  {
   "cell_type": "code",
   "execution_count": null,
   "metadata": {},
   "outputs": [],
   "source": [
    "antwort = \"\"\n",
    "while antwort != \"stop\":\n",
    "    antwort = input(\"Sag 'stop', um mich zu beenden: \")\n",
    "    print(\"Du hast \" + antwort + \" gesagt.\")\n",
    "print(\"Programm beendet!\")"
   ]
  },
  {
   "cell_type": "markdown",
   "metadata": {},
   "source": [
    "### Schleifen steuern: `break`\n",
    "Manchmal möchte man eine Schleife vorzeitig verlassen. Dafür gibt es den Befehl `break`."
   ]
  },
  {
   "cell_type": "code",
   "execution_count": null,
   "metadata": {},
   "outputs": [],
   "source": [
    "# Diese Schleife würde eigentlich unendlich laufen!\n",
    "while True:\n",
    "    befehl = input(\"Gib 'exit' ein, um die Schleife zu verlassen: \")\n",
    "    if befehl == \"exit\":\n",
    "        break  # Verlässt die Schleife sofort\n",
    "    print(\"Du hast eingegeben:\", befehl)\n",
    "print(\"Schleife wurde verlassen.\")"
   ]
  },
  {
   "cell_type": "markdown",
   "metadata": {},
   "source": [
    "## Finde den Fehler!\n",
    "\n",
    "Hier haben sich wieder Fehler eingeschlichen. Findest du sie?"
   ]
  },
  {
   "cell_type": "markdown",
   "metadata": {},
   "source": [
    "### Beispiel 1"
   ]
  },
  {
   "cell_type": "code",
   "execution_count": null,
   "metadata": {},
   "outputs": [],
   "source": [
    "# Dieses Programm soll die Zahlen von 1 bis 5 ausgeben.\n",
    "for zahl in range(5):\n",
    "    print(zahl)\n",
    "# Was ist, wenn wir wirklich die Zahlen 1 bis 5 wollen, ohne zu rechnen?"
   ]
  },
  {
   "cell_type": "markdown",
   "metadata": {},
   "source": [
    "### Beispiel 2"
   ]
  },
  {
   "cell_type": "code",
   "execution_count": null,
   "metadata": {},
   "outputs": [],
   "source": [
    "# Dieses Programm soll \"Richtig!\" ausgeben, wenn man \"exit\" eingibt.\n",
    "antwort = \"\"\n",
    "while antwort != \"exit\":\n",
    "    print(\"Gib 'exit' ein, um das Programm zu beenden.\")\n",
    "    input(\"Deine Eingabe: \") # Hier ist der Fehler!\n",
    "print(\"Richtig!\")"
   ]
  },
  {
   "cell_type": "markdown",
   "metadata": {},
   "source": [
    "### Beispiel 3 (Achtung, Endlosschleife!)"
   ]
  },
  {
   "cell_type": "code",
   "execution_count": null,
   "metadata": {},
   "outputs": [],
   "source": [
    "# Dieses Programm soll die Zahlen von 0 bis 4 ausgeben.\n",
    "# Aber es hat einen fiesen Fehler, der es abstürzen lässt!\n",
    "zahl = 0\n",
    "while zahl < 5:\n",
    "    print(\"Die aktuelle Zahl ist:\", zahl)\n",
    "    # Etwas Wichtiges fehlt hier, um die Schleife zu beenden!"
   ]
  },
  {
   "cell_type": "markdown",
   "metadata": {},
   "source": [
    "## Interaktive Aufgaben"
   ]
  },
  {
   "cell_type": "markdown",
   "metadata": {},
   "source": [
    "### Aufgabe 1: Die Countdown-Rakete\n",
    "Programmiere einen Countdown für einen Raketenstart!\n",
    "- **Nutze** eine `for`-Schleife und `range()`, um von 10 rückwärts bis 1 zu zählen.\n",
    "- **Gib** nach der Schleife \"Rakete startet!\" aus.\n",
    "- **Tipp:** `range()` kann drei Werte annehmen: `range(start, stop, schrittweite)`. Fürs Rückwärtszählen ist die Schrittweite negativ!"
   ]
  },
  {
   "cell_type": "code",
   "execution_count": null,
   "metadata": {},
   "outputs": [],
   "source": [
    "# Dein Code hier"
   ]
  },
  {
   "cell_type": "markdown",
   "metadata": {},
   "source": [
    "### Aufgabe 2: Das Passwort-Rätsel\n",
    "Sichere dein Programm mit einem Passwort!\n",
    "- **Lege** ein geheimes Passwort fest.\n",
    "- **Nutze** eine `while`-Schleife, die den Benutzer so lange nach dem Passwort fragt, bis er es richtig eingibt.\n",
    "- **Gib** eine Erfolgsmeldung aus, wenn das Passwort korrekt war."
   ]
  },
  {
   "cell_type": "code",
   "execution_count": null,
   "metadata": {},
   "outputs": [],
   "source": [
    "# Dein Code hier"
   ]
  },
  {
   "cell_type": "markdown",
   "metadata": {},
   "source": [
    "### Aufgabe 3: Der Wort-Zerleger (Kreativaufgabe)\n",
    "Lass dein Programm Wörter auf kreative Weise buchstabieren.\n",
    "- **Frage** den Benutzer nach einem Wort.\n",
    "- **Nutze** eine `for`-Schleife, um jeden Buchstaben des Wortes einzeln auszugeben.\n",
    "- **Verziere** jeden Buchstaben bei der Ausgabe, z.B. `~ H ~`, `~ A ~`, `~ L ~`, `~ L ~`, `~ O ~`."
   ]
  },
  {
   "cell_type": "code",
   "execution_count": null,
   "metadata": {},
   "outputs": [],
   "source": [
    "# Dein Code hier"
   ]
  },
  {
   "cell_type": "markdown",
   "metadata": {},
   "source": [
    "### Reflexion:\n",
    "- Wann würdest du eine `for`-Schleife und wann eine `while`-Schleife verwenden?\n",
    "- Was ist eine Endlosschleife und wie kann man sie verhindern?\n",
    "- In welcher Situation könnte der `break`-Befehl besonders nützlich sein?"
   ]
  },
  {
   "cell_type": "markdown",
   "metadata": {},
   "source": [
    "### Review:\n",
    "- Stellt eure Programme vor! Welche kreativen Countdown-Nachrichten oder Wort-Dekorationen habt ihr euch ausgedacht?"
   ]
  },
  {
   "cell_type": "markdown",
   "metadata": {},
   "source": [
    "### Lernziele:\n",
    "- `for`-Schleifen nutzen, um Code eine bestimmte Anzahl oft zu wiederholen.\n",
    "- `while`-Schleifen einsetzen, um Code auszuführen, solange eine Bedingung wahr ist.\n",
    "- Den Unterschied und die Anwendungsfälle beider Schleifentypen verstehen."
   ]
  },
  {
   "cell_type": "markdown",
   "metadata": {},
   "source": [
    "### Zusammenfassung:\n",
    "Du hast heute gelernt, wie du mit Schleifen Aufgaben automatisieren und Code effizient wiederholen kannst. Das ist eine Superkraft beim Programmieren!"
   ]
  },
  {
   "cell_type": "markdown",
   "metadata": {},
   "source": [
    "### Hausaufgaben"
   ]
  },
  {
   "cell_type": "markdown",
   "metadata": {},
   "source": [
    "1.  **Der Einmaleins-Generator:**\n",
    "    - Frage den Benutzer nach einer Zahl.\n",
    "    - Nutze eine `for`-Schleife, um die komplette Einmaleins-Reihe für diese Zahl auszugeben (von 1 bis 10).\n",
    "    - Beispiel-Ausgabe für die Zahl 7: `1 x 7 = 7`, `2 x 7 = 14`, ..."
   ]
  },
  {
   "cell_type": "code",
   "execution_count": null,
   "metadata": {},
   "outputs": [],
   "source": [
    "# Dein Code hier"
   ]
  },
  {
   "cell_type": "markdown",
   "metadata": {},
   "source": [
    "2.  **Das Zahlen-Ratespiel:**\n",
    "    - Lege eine geheime Zahl fest (z.B. `42`).\n",
    "    - Nutze eine `while`-Schleife, um den Benutzer so lange raten zu lassen, bis er die Zahl errät.\n",
    "    - Gib nach jedem Versuch einen Hinweis, ob die geratene Zahl `zu hoch` oder `zu niedrig` war. (Hier brauchst du `if`-Bedingungen in der Schleife!)"
   ]
  },
  {
   "cell_type": "code",
   "execution_count": null,
   "metadata": {},
   "outputs": [],
   "source": [
    "# Dein Code hier"
   ]
  },
  {
   "cell_type": "markdown",
   "metadata": {},
   "source": [
    "3.  **Der ASCII-Art-Zeichner:**\n",
    "    - Frage den Benutzer, wie groß ein Quadrat sein soll (z.B. `5`).\n",
    "    - Nutze zwei ineinander verschachtelte `for`-Schleifen, um ein Quadrat aus Sternchen (`*`) zu zeichnen, das der eingegebenen Größe entspricht.\n",
    "    - Für die Größe 5 sähe das so aus:\n",
    "      ```\n",
    "      *****\n",
    "      *****\n",
    "      *****\n",
    "      *****\n",
    "      *****\n",
    "      ```"
   ]
  },
  {
   "cell_type": "code",
   "execution_count": null,
   "metadata": {},
   "outputs": [],
   "source": [
    "# Dein Code hier"
   ]
  }
 ],
 "metadata": {
  "kernelspec": {
   "display_name": "Python 3",
   "language": "python",
   "name": "python3"
  },
  "language_info": {
   "name": "python",
   "version": "3.9.1"
  }
 },
 "nbformat": 4,
 "nbformat_minor": 4
}
