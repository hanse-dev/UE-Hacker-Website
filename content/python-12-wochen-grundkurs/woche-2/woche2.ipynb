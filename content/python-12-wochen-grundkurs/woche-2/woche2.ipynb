{
 "cells": [
  {
   "cell_type": "markdown",
   "metadata": {},
   "source": [
    "## Woche 2 – Datentypen & Kreative Geschichten"
   ]
  },
  {
   "cell_type": "markdown",
   "metadata": {},
   "source": [
    "### Projekt: „Mein erstes Text-Abenteuer“\n",
    "Wir programmieren eine interaktive Geschichte, die sich durch die Eingaben des Benutzers verändert."
   ]
  },
  {
   "cell_type": "markdown",
   "metadata": {},
   "source": [
    "### Was sind Datentypen?\n",
    "In Python hat jeder Wert einen „Typ“. Die wichtigsten für den Anfang sind:\n",
    "- **String** (`str`): Text, immer in Anführungszeichen (z.B. `\"Hallo Welt\"`).\n",
    "- **Integer** (`int`): Ganze Zahlen (z.B. `10`, `-5`).\n",
    "- **Float** (`float`): Zahlen mit Kommastellen (z.B. `3.14`, `-0.5`).\n",
    "\n",
    "#### Wie arbeitet man mit ihnen?\n",
    "- Man kann sie in Variablen speichern und mit Operatoren bearbeiten.\n",
    "- `+` kann Zahlen addieren oder Strings zusammenfügen.\n",
    "- `*` kann Zahlen multiplizieren oder einen String mehrfach wiederholen (z.B. `\"Hi\" * 3` ergibt `\"HiHiHi\"`)."
   ]
  },
  {
   "cell_type": "code",
   "execution_count": null,
   "metadata": {},
   "outputs": [],
   "source": [
    "# Datentypen in Python\n",
    "\n",
    "# string (Text)\n",
    "hallo_welt = \"Hallo Welt\"\n",
    "print(hallo_welt)        # Ausgabe: Hallo Welt\n",
    "print(type(hallo_welt))  # Ausgabe: <class 'str'>\n",
    "print(\"-----\")\n",
    "\n",
    "# interger (Ganze Zahl)\n",
    "zahl = 10\n",
    "print(zahl)        # Ausgabe: 10\n",
    "print(type(zahl))  # Ausgabe: <class 'int'>\n",
    "print(\"-----\")\n",
    "\n",
    "# float (Fließkommazahl)\n",
    "kommazahl = 3.14\n",
    "print(kommazahl)        # Ausgabe: 3.14\n",
    "print(type(kommazahl))  # Ausgabe: <class 'float'>\n",
    "print(\"-----\")\n",
    "\n",
    "# String-Verkettung\n",
    "text1 = \"Hallo\"\n",
    "text2 = \"Welt\"\n",
    "kombiniert = text1 + \" \" + text2\n",
    "print(kombiniert)  # Ausgabe: Hallo Welt\n",
    "\n",
    "# Multiplikation von Strings\n",
    "wiederholt = \"Hi! \" * 3\n",
    "print(wiederholt)  # Ausgabe: Hi! Hi! Hi!"
   ]
  },
  {
   "cell_type": "markdown",
   "metadata": {},
   "source": [
    "\n",
    "#### Was ist Type Casting?\n",
    "Manchmal muss man den Typ eines Wertes ändern, um ihn in einer bestimmten Weise zu verwenden:\n",
    "- `int()` wandelt einen Wert in eine ganze Zahl um.\n",
    "- `str()` wandelt einen Wert in einen String um.\n",
    "- `float()` wandelt einen Wert in eine Zahl mit Kommastellen um."
   ]
  },
  {
   "cell_type": "code",
   "execution_count": null,
   "metadata": {},
   "outputs": [],
   "source": [
    "a = \"10\"\n",
    "b = \"5.5\"\n",
    "a_int = int(a)          # Konvertiert String zu Integer\n",
    "b_float = float(b)      # Konvertiert String zu Float\n",
    "b_int = int(b)          # Konvertiert String zu Integer (kürzt die Dezimalstelle ab)\n",
    "\n",
    "summe = a_int + b_float # Addition der konvertierten Werte\n",
    "print(summe)            # Ausgabe: 15.5\n",
    "summe2 = a_int + b_int  # Addition der konvertierten Werte\n",
    "print(summe2)           # Ausgabe: 15\n"
   ]
  },
  {
   "cell_type": "markdown",
   "metadata": {},
   "source": [
    "### Input\n",
    "- `input(\"HIER STEHT IRGENDEIN TEXT\")` liest eine Eingabe vom Benutzer ein  \n",
    "\n",
    "- die Eingabe wird immer als `string` (Text) gespeichert, auch wenn der Benutzer eine Zahl eingibt\n",
    "\n",
    "- der Text in den Klammern wird angezeigt, wenn dort kein Text steht, sieht der Benutzer keinen Text\n",
    "\n",
    "- lass am Ende des Textes ein Leerzeichen, damit die Eingabe nicht direkt am Text klebt"
   ]
  },
  {
   "cell_type": "code",
   "execution_count": null,
   "metadata": {},
   "outputs": [],
   "source": [
    "alter = input(\"Bitte geben Sie Ihr Alter ein: \")\n",
    "# auf dem Bildschirm steht - Bitte geben Sie Ihr Alter ein: "
   ]
  },
  {
   "cell_type": "markdown",
   "metadata": {},
   "source": [
    "### Interaktive Aufgabe:\n",
    "Grundgerüst der Geschichte:\n",
    "- **Frage** den Benutzer nach Dingen (Name, Ort, Zahl, ...).\n",
    "- Baue die Antworten in eine kleine Geschichte ein und gib sie aus."
   ]
  },
  {
   "cell_type": "code",
   "execution_count": null,
   "metadata": {},
   "outputs": [],
   "source": [
    "name = input(\"Wie heißt du? \")\n"
   ]
  },
  {
   "cell_type": "markdown",
   "metadata": {},
   "source": [
    "Kleiner Tipp:\n",
    "- ein f-String macht das Einfügen von Variablen in einen Text einfacher\n",
    "- wenn man einen f-String verwendet, kann man die Variablen direkt im Text einfügen, ohne sie vorher in einen separaten String zu konvertieren\n",
    "- die geschweiften Klammern `{}` im f-String zeigen an, wo die Variablen eingefügt werden sollen"
   ]
  },
  {
   "cell_type": "code",
   "execution_count": null,
   "metadata": {},
   "outputs": [],
   "source": [
    "geschichte = f\"{name}\""
   ]
  },
  {
   "cell_type": "markdown",
   "metadata": {},
   "source": [
    "#### Erweiterte Aufgabe:\n",
    "- Füge eine Kommazahl (z.B. einen Preis oder eine Größe) in deine Geschichte ein.\n",
    "- Frage nach zwei Zahlen und berechne etwas damit (z.B. das Alter in 10 Jahren)."
   ]
  },
  {
   "cell_type": "code",
   "execution_count": null,
   "metadata": {},
   "outputs": [],
   "source": [
    "# Frage nach weiteren Informationen und erweitere deine Geschichte\n"
   ]
  },
  {
   "cell_type": "markdown",
   "metadata": {},
   "source": [
    "#### Kreativaufgabe:\n",
    "- Gestalte die Ausgabe besonders schön, z.B. mit einem Rahmen aus Sonderzeichen."
   ]
  },
  {
   "cell_type": "code",
   "execution_count": null,
   "metadata": {},
   "outputs": [],
   "source": [
    "# Baue einen Rahmen aus Sternen um die Geschichte\n"
   ]
  },
  {
   "cell_type": "markdown",
   "metadata": {},
   "source": [
    "### Reflexion:\n",
    "- Was war schwierig?  \n",
    "- Gab es Fehlermeldungen, als du versucht hast, eine Zahl mit Text zu addieren?  \n",
    "- Wie hast du das Problem gelöst?  "
   ]
  },
  {
   "cell_type": "markdown",
   "metadata": {},
   "source": [
    "### Review:\n",
    "- Stellt eure Geschichten vor! Welche kreativen Ideen hattet ihr?"
   ]
  },
  {
   "cell_type": "markdown",
   "metadata": {},
   "source": [
    "### Lernziele:\n",
    "- Die grundlegenden Datentypen `str`, `int` und `float` kennenlernen.\n",
    "- Werte zwischen Datentypen umwandeln (Type Casting).\n",
    "- Eingaben vom Benutzer verarbeiten.\n",
    "- Strings und Zahlen in einem Programm kombinieren."
   ]
  },
  {
   "cell_type": "markdown",
   "metadata": {},
   "source": [
    "### Zusammenfassung:\n",
    "**Du hast heute eine interaktive Geschichte geschrieben und gelernt, wie Python mit verschiedenen Arten von Daten umgeht.**"
   ]
  },
  {
   "cell_type": "markdown",
   "metadata": {},
   "source": [
    "### Hausaufgaben:\n",
    "1. **Schreibe eine neue Geschichte:**\n",
    "    - Baue mindestens fünf verschiedene Eingaben ein\n",
    "    - verwende alle drei Datentypen (`str`, `int`, `float`)."
   ]
  },
  {
   "cell_type": "code",
   "execution_count": null,
   "metadata": {},
   "outputs": [],
   "source": [
    "# Hier kann der Benutzer seine Geschichte eingeben\n"
   ]
  },
  {
   "cell_type": "markdown",
   "metadata": {},
   "source": [
    "2. **Schreibe ein kleines Programm, das...**\n",
    "    - ...nach deinem Geburtsjahr fragt.\n",
    "    - ...dein Alter berechnet und ausgibt.\n",
    "    - ...dir sagt, in welchem Jahr du 100 Jahre alt sein wirst."
   ]
  },
  {
   "cell_type": "code",
   "execution_count": null,
   "metadata": {},
   "outputs": [],
   "source": [
    "# Hier ist Platz für Aufgabe 2"
   ]
  },
  {
   "cell_type": "markdown",
   "metadata": {},
   "source": [
    "3. Überlege, wo im Alltag begegnen dir die verschiedenen Datentypen? Sammle drei Beispiele."
   ]
  }
 ],
 "metadata": {
  "kernelspec": {
   "display_name": ".venv",
   "language": "python",
   "name": "python3"
  },
  "language_info": {
   "codemirror_mode": {
    "name": "ipython",
    "version": 3
   },
   "file_extension": ".py",
   "mimetype": "text/x-python",
   "name": "python",
   "nbconvert_exporter": "python",
   "pygments_lexer": "ipython3",
   "version": "3.13.7"
  }
 },
 "nbformat": 4,
 "nbformat_minor": 4
}
