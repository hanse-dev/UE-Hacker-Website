{
 "cells": [
  {
   "cell_type": "markdown",
   "metadata": {},
   "source": [
    "# Woche 5 – Funktionen & Eigene Werkzeuge"
   ]
  },
  {
   "cell_type": "markdown",
   "metadata": {},
   "source": [
    "## Projekt: „Der Universal-Rechner & Der persönliche Begrüßer“\n",
    "Wir schreiben eigene, wiederverwendbare Code-Blöcke (Funktionen), um einen kleinen Rechner und ein Begrüßungsprogramm zu bauen, das wir immer wieder verwenden können."
   ]
  },
  {
   "cell_type": "markdown",
   "metadata": {},
   "source": [
    "## Was sind Funktionen?\n",
    "Eine Funktion ist im Grunde nur **ein Name für ein paar Codezeilen**. Stell sie dir wie ein Rezept vor: Du schreibst einmal auf, wie man einen Kuchen backt (das ist die **Definition** der Funktion), und jedes Mal, wenn du einen Kuchen backen willst, holst du das Rezept hervor und folgst den Anweisungen (das ist der **Aufruf** der Funktion).\n",
    "\n",
    "Das ist super praktisch, weil du so:\n",
    "- Code nicht ständig wiederholen musst.\n",
    "- Deinen Programmen eine klare Struktur gibst.\n",
    "- Komplexe Probleme in kleine, überschaubare Teile zerlegen kannst."
   ]
  },
  {
   "cell_type": "code",
   "execution_count": null,
   "metadata": {},
   "outputs": [],
   "source": []
  },
  {
   "cell_type": "markdown",
   "metadata": {},
   "source": [
    "### Definieren vs. Aufrufen – Der Unterschied\n",
    "Das ist der wichtigste Punkt bei Funktionen:\n",
    "- **Definieren**: Mit `def mein_rezept():` erstellst du das Rezept. Du legst fest, was die Funktion tun soll. Der Code wird hier **noch nicht ausgeführt**!\n",
    "- **Aufrufen**: Mit `mein_rezept()` führst du den Code im Rezept tatsächlich aus. Erst jetzt passiert etwas."
   ]
  },
  {
   "cell_type": "markdown",
   "metadata": {},
   "source": [
    "### Der Aufbau einer Funktion\n",
    "- **Definieren**: Mit `def funktions_name():` legst du eine neue Funktion an. Das `def` steht für \"Definition\".\n",
    "- **Einrücken**: Der Code, der zur Funktion gehört, muss **eingerückt** sein. Das bedeutet, er steht nicht ganz links, sondern ist meist um 4 Leerzeichen nach rechts verschoben. So weiß Python, welche Zeilen zum \"Rezept\" gehören.\n",
    "- **Aufrufen**: Um die Funktion zu nutzen, schreibst du einfach ihren Namen mit Klammern dahinter: `funktions_name()`.\n",
    "\n",
    "Das Coole ist: **Funktionen können auch andere Funktionen aufrufen!** So kannst du deine \"Rezepte\" miteinander kombinieren."
   ]
  },
  {
   "cell_type": "code",
   "execution_count": null,
   "metadata": {},
   "outputs": [],
   "source": [
    "# DEFINITION der Funktion\n",
    "def sag_hallo():\n",
    "    print(\"Hallo! Schön, dass du da bist.\")\n",
    "    print(\"Dies ist eine Funktion.\")\n",
    "\n",
    "def haupt_funktion():\n",
    "    print(\"Ich bin die Hauptfunktion und rufe jetzt die andere Funktion auf.\")\n",
    "    sag_hallo()\n",
    "\n",
    "# AUFRUF der Hauptfunktion\n",
    "haupt_funktion()"
   ]
  },
  {
   "cell_type": "markdown",
   "metadata": {},
   "source": [
    "### Parameter: Gib deiner Funktion Zutaten mit\n",
    "Manchmal braucht eine Funktion Informationen von außen, um zu funktionieren (wie die Kaffeemaschine Wasser und Pulver). Diese \"Zutaten\" nennt man **Parameter**.\n",
    "- `def begruesse(name):` – `name` ist hier ein Parameter.\n",
    "- Beim Aufruf gibst du der Funktion den Wert mit, den sie verwenden soll. Das nennt man **Argument**: `begruesse(\"Anna\")`."
   ]
  },
  {
   "cell_type": "code",
   "execution_count": null,
   "metadata": {},
   "outputs": [],
   "source": [
    "# Definition mit einem Parameter 'name'\n",
    "def persoenliche_begruessung(name):\n",
    "    print(f\"Hallo {name}, willkommen im Programmierkurs!\")\n",
    "\n",
    "# Aufrufe mit verschiedenen Argumenten\n",
    "persoenliche_begruessung(\"Alex\")\n",
    "persoenliche_begruessung(\"Maria\")"
   ]
  },
  {
   "cell_type": "markdown",
   "metadata": {},
   "source": [
    "### `return`: Wenn die Funktion ein Ergebnis liefern soll\n",
    "Stell dir vor, du fragst einen Freund: \"Was ist 5 plus 3?\". Du erwartest eine Antwort, nämlich \"8\". Du willst nicht, dass er \"8\" nur an die Wand ruft (`print`), sondern dass er es **dir sagt**, damit du damit weiterarbeiten kannst.\n",
    "\n",
    "Genau das macht `return`:\n",
    "- `return` beendet die Funktion und gibt einen Wert an die Stelle zurück, an der die Funktion aufgerufen wurde.\n",
    "- **Wann ist `return` sinnvoll?** Immer dann, wenn du das Ergebnis der Funktion später im Code weiterverwenden möchtest. Zum Beispiel, um es in einer Variable zu speichern, es in einer anderen Berechnung zu nutzen oder es an eine andere Funktion zu übergeben.\n",
    "- Eine Funktion ohne `return` macht einfach nur etwas (z.B. etwas ausgeben), gibt aber kein Ergebnis zurück."
   ]
  },
  {
   "cell_type": "code",
   "execution_count": null,
   "metadata": {},
   "outputs": [],
   "source": [
    "# Diese Funktion gibt ein Ergebnis ZURÜCK\n",
    "def addiere(a, b):\n",
    "    ergebnis = a + b\n",
    "    return ergebnis\n",
    "\n",
    "# Das Ergebnis des Aufrufs wird in 'summe' gespeichert\n",
    "summe = addiere(10, 5)\n",
    "print(f\"Die in der Variable 'summe' gespeicherte Zahl ist: {summe}\")\n",
    "print(f\"Wir können damit weiterrechnen: {summe * 2}\")"
   ]
  },
  {
   "cell_type": "markdown",
   "metadata": {},
   "source": [
    "### Worauf muss man noch achten? (Gute Praxis)\n",
    "Super, du kannst jetzt eigene Funktionen bauen! Damit du auch wie ein Profi programmierst, hier ein paar Tipps, die deinen Code viel besser lesbar und verständlicher machen.\n",
    "- **Sprechende Namen (Naming Conventions)**: Gib deinen Funktionen klare, aussagekräftige Namen.\n",
    "    - **Schlecht**: `f1()`, `mache_zeug()`, `berechnung()`\n",
    "    - **Gut**: `sende_gruss_an_alle()`, `berechne_quadrat_flaeche()`, `uebersetze_wort()`\n",
    "    - In Python schreibt man Funktionsnamen klein und trennt Wörter mit einem Unterstrich (`_`). Das nennt man **snake_case**.\n",
    "- **Eine Funktion, eine Aufgabe**: Jede Funktion sollte idealerweise nur für *eine einzige, klar definierte Aufgabe* zuständig sein.\n",
    "- **Kommentare & Docstrings**: Wenn eine Funktion etwas Kompliziertes macht, schreibe einen kurzen Kommentar darüber. Noch besser ist ein sogenannter **Docstring** direkt unter der `def`-Zeile. Das ist ein spezieller Kommentar in drei Anführungszeichen, der erklärt, was die Funktion tut."
   ]
  },
  {
   "cell_type": "code",
   "execution_count": null,
   "metadata": {},
   "outputs": [],
   "source": [
    "def berechne_hundejahre(menschenjahre):\n",
    "    \"\"\"\n",
    "    Rechnet das Alter eines Menschen in Hundejahre um.\n",
    "\n",
    "    Parameter:\n",
    "        menschenjahre (int): Das Alter des Menschen.\n",
    "\n",
    "    Returns:\n",
    "        int: Das Alter in Hundejahren.\n",
    "    \"\"\"\n",
    "    return menschenjahre * 7\n",
    "\n",
    "# Man kann den Docstring mit help() ansehen\n",
    "help(berechne_hundejahre)"
   ]
  },
  {
   "cell_type": "markdown",
   "metadata": {},
   "source": [
    "## Finde den Fehler!"
   ]
  },
  {
   "cell_type": "markdown",
   "metadata": {},
   "source": [
    "### Beispiel 1"
   ]
  },
  {
   "cell_type": "code",
   "execution_count": null,
   "metadata": {},
   "outputs": [],
   "source": [
    "# Warum passiert hier nichts, wenn man das Programm startet?\n",
    "def sag_hallo():\n",
    "    print(\"Hallo Welt!\")\n",
    "\n"
   ]
  },
  {
   "cell_type": "markdown",
   "metadata": {},
   "source": [
    "### Beispiel 2"
   ]
  },
  {
   "cell_type": "code",
   "execution_count": null,
   "metadata": {},
   "outputs": [],
   "source": [
    "# Das Programm soll den Namen ausgeben, aber es gibt einen Fehler.\n",
    "def vorstellung(name, alter):\n",
    "    print(f\"Ich bin {name} und bin {alter} Jahre alt.\")\n",
    "\n",
    "vorstellung(\"Leo\")"
   ]
  },
  {
   "cell_type": "markdown",
   "metadata": {},
   "source": [
    "### Beispiel 3 (schwierig)"
   ]
  },
  {
   "cell_type": "code",
   "execution_count": null,
   "metadata": {},
   "outputs": [],
   "source": [
    "# Warum können wir hier nicht auf die Summe zugreifen?\n",
    "def berechne_summe():\n",
    "    summe = 5 + 10\n",
    "    return summe\n",
    "\n",
    "berechne_summe()\n",
    "print(summe)"
   ]
  },
  {
   "cell_type": "markdown",
   "metadata": {},
   "source": [
    "## Interaktive Aufgaben"
   ]
  },
  {
   "cell_type": "markdown",
   "metadata": {},
   "source": [
    "### Aufgabe 1: Der Roboter-Tanz\n",
    "Stell dir vor, du hast einen kleinen Roboter, der tanzen kann. Seine Tanz-Routine ist aber immer gleich.\n",
    "- **Definiere** eine Funktion namens `roboter_tanz`.\n",
    "- In dieser Funktion soll der Roboter drei coole Tanz-Moves ausgeben, jeder in einer eigenen `print`-Zeile. Zum Beispiel:\n",
    "  - \"Drehe mich links herum!\"\n",
    "  - \"Strecke die Arme aus!\"\n",
    "  - \"Mache einen Moonwalk!\"\n",
    "- Nachdem du die Funktion **definiert** hast, **rufe** sie auf, damit der Roboter seinen Tanz vorführt. Was passiert, wenn du sie dreimal hintereinander aufrufst?"
   ]
  },
  {
   "cell_type": "code",
   "execution_count": null,
   "metadata": {},
   "outputs": [
    {
     "ename": "",
     "evalue": "",
     "output_type": "error",
     "traceback": [
      "\u001b[1;31mRunning cells with 'Python 3.13.7' requires the ipykernel package.\n",
      "\u001b[1;31m<a href='command:jupyter.createPythonEnvAndSelectController'>Create a Python Environment</a> with the required packages.\n",
      "\u001b[1;31mOr install 'ipykernel' using the command: '/opt/homebrew/bin/python3 -m pip install ipykernel -U --user --force-reinstall'"
     ]
    }
   ],
   "source": [
    "# Dein Code hier"
   ]
  },
  {
   "cell_type": "markdown",
   "metadata": {},
   "source": [
    "### Aufgabe 2: Der magische Begrüßungs-Spruch\n",
    "Du programmierst ein Fantasy-Spiel. Jedes Mal, wenn ein Held ein Dorf betritt, soll er vom Dorfältesten persönlich begrüßt werden.\n",
    "- **Definiere** eine Funktion `begruesse_held(helden_name)`. Sie soll den Namen des Helden als Parameter bekommen.\n",
    "- In der Funktion soll ein magischer Spruch ausgegeben werden, der den Namen des Helden enthält. Zum Beispiel: `f\"Seid gegrüßt, tapferer {helden_name}! Mögen eure Klingen scharf und euer Schild stark sein.\"`\n",
    "- **Rufe** die Funktion für zwei verschiedene Helden auf, z.B. für \"Aragon\" und \"Gimli\"."
   ]
  },
  {
   "cell_type": "code",
   "execution_count": null,
   "metadata": {},
   "outputs": [],
   "source": [
    "# Dein Code hier"
   ]
  },
  {
   "cell_type": "markdown",
   "metadata": {},
   "source": [
    "### Aufgabe 3: Die Schatzkisten-Werkstatt (Kreativaufgabe)\n",
    "Du bist ein Handwerker, der Schatzkisten herstellt. Kunden bestellen Kisten mit unterschiedlichen Maßen. Du brauchst eine Funktion, die dir schnell das Volumen berechnet, damit du weißt, wie viel Gold hineinpasst.\n",
    "- **Definiere** eine Funktion `berechne_volumen(laenge, breite, hoehe)`.\n",
    "- Die Funktion soll das Volumen berechnen (`laenge * breite * hoehe`).\n",
    "- **Nutze `return`**, um das berechnete Volumen zurückzugeben. Das ist wichtig, denn du willst den Wert ja weiterverwenden!\n",
    "- **Rufe** die Funktion mit den Maßen `10, 20, 5` auf und speichere das Ergebnis in einer Variable namens `gold_volumen`.\n",
    "- Gib am Ende einen Satz aus, der das Ergebnis schön präsentiert: `f\"In diese Kiste passt Gold im Volumen von {gold_volumen} Kubikzentimetern!\"`"
   ]
  },
  {
   "cell_type": "code",
   "execution_count": null,
   "metadata": {},
   "outputs": [],
   "source": [
    "# Dein Code hier"
   ]
  },
  {
   "cell_type": "markdown",
   "metadata": {},
   "source": [
    "### Reflexion:\n",
    "- Warum sind Funktionen nützlich, auch wenn man den Code nur einmal braucht?\n",
    "- Was ist der Unterschied zwischen `print` und `return` in einer Funktion?\n",
    "- Was passiert, wenn eine Variable innerhalb einer Funktion den gleichen Namen hat wie eine Variable außerhalb? (Scope)"
   ]
  },
  {
   "cell_type": "markdown",
   "metadata": {},
   "source": [
    "### Review:\n",
    "- Stellt eure Funktionen vor! Welche praktischen kleinen Helfer habt ihr gebaut?"
   ]
  },
  {
   "cell_type": "markdown",
   "metadata": {},
   "source": [
    "### Schlüsselwörter\n",
    "- **Funktion**: Ein benannter, wiederverwendbarer Block von Code.\n",
    "- **`def`**: Das Schlüsselwort in Python, um eine Funktion zu **definieren**.\n",
    "- **Aufruf (Call)**: Das Ausführen einer Funktion.\n",
    "- **Parameter**: Eine Variable im Funktionskopf, die als Platzhalter für einen Wert dient, den die Funktion erwartet.\n",
    "- **Argument**: Der tatsächliche Wert, der einer Funktion beim Aufruf übergeben wird.\n",
    "- **`return`**: Das Schlüsselwort, um einen Wert von einer Funktion zurückzugeben.\n",
    "- **Einrückung (Indentation)**: Das Verschieben von Code nach rechts (meist 4 Leerzeichen), um Python zu zeigen, welcher Codeblock zusammengehört.\n",
    "- **snake_case**: Die Namenskonvention für Funktionen in Python (kleingeschrieben, mit `_` getrennt).\n",
    "- **Docstring**: Ein Kommentar direkt unter der `def`-Zeile, der erklärt, was die Funktion tut."
   ]
  },
  {
   "cell_type": "markdown",
   "metadata": {},
   "source": [
    "### Lernziele:\n",
    "- Eigene Funktionen mit `def` definieren und aufrufen.\n",
    "- Parameter nutzen, um Funktionen flexibel zu machen.\n",
    "- Mit `return` Werte aus Funktionen zurückgeben und weiterverwenden.\n",
    "- Den Code durch Funktionen übersichtlicher und wiederverwendbar machen."
   ]
  },
  {
   "cell_type": "markdown",
   "metadata": {},
   "source": [
    "### Zusammenfassung:\n",
    "Du hast heute gelernt, wie du deine eigenen Werkzeuge in Python erstellst. Mit Funktionen wird dein Code aufgeräumter, professioneller und viel mächtiger!"
   ]
  },
  {
   "cell_type": "markdown",
   "metadata": {},
   "source": [
    "### Hausaufgaben"
   ]
  },
  {
   "cell_type": "markdown",
   "metadata": {},
   "source": [
    "1.  **Der Alien-Sprach-Übersetzer:**\n",
    "    - Du hast Kontakt mit Aliens aufgenommen! Ihre Sprache ist seltsam: Sie sagen alle Wörter rückwärts und hängen am Ende \"blorp\" an.\n",
    "    - Schreibe eine Funktion `uebersetze_fuer_alien(wort)`.\n",
    "    - Die Funktion soll ein deutsches Wort nehmen, es umdrehen und \"blorp\" hinzufügen. (Tipp: `wort[::-1]` dreht einen String um).\n",
    "    - Lass die Funktion das übersetzte Wort **zurückgeben** (`return`).\n",
    "    - Frage den Benutzer nach einem Wort, rufe deine Funktion auf und gib die \"Übersetzung\" aus, damit wir mit den Aliens kommunizieren können!"
   ]
  },
  {
   "cell_type": "code",
   "execution_count": null,
   "metadata": {},
   "outputs": [],
   "source": [
    "# Dein Code hier"
   ]
  },
  {
   "cell_type": "markdown",
   "metadata": {},
   "source": [
    "2.  **Der Superhelden-Namen-Generator:**\n",
    "    - Jeder braucht einen Superhelden-Namen! Deine Funktion soll einen generieren.\n",
    "    - Schreibe eine Funktion `erstelle_superhelden_name(vorname, lieblingsfarbe)`.\n",
    "    - Die Funktion soll aus dem Vornamen und der Lieblingsfarbe einen coolen Namen basteln und als String **zurückgeben**. Zum Beispiel: `f\"Der/Die unglaubliche {lieblingsfarbe}ne {vorname}!\"`.\n",
    "    - Frage den Benutzer nach seinem Vornamen und seiner Lieblingsfarbe.\n",
    "    - Rufe die Funktion auf und präsentiere dem Benutzer seinen neuen, epischen Superhelden-Namen!"
   ]
  },
  {
   "cell_type": "code",
   "execution_count": null,
   "metadata": {},
   "outputs": [],
   "source": [
    "# Dein Code hier"
   ]
  },
  {
   "cell_type": "markdown",
   "metadata": {},
   "source": [
    "3.  **Die Abenteuer-Weg-Entscheidung:**\n",
    "    - In einem Text-Abenteuer stehst du an einer Weggabelung. Deine Funktion entscheidet, was passiert.\n",
    "    - Schreibe eine Funktion `waehle_abenteuer_weg(entscheidung)`.\n",
    "    - Die Funktion bekommt eine Entscheidung (z.B. \"links\" oder \"rechts\") als Parameter.\n",
    "    - Nutze `if-elif-else`, um auf die Entscheidung zu reagieren:\n",
    "        - Wenn die Entscheidung `\"links\"` ist, **return** den Satz: `\"Du schleichst durch einen dunklen Wald und findest eine leuchtende Feder!\"`\n",
    "        - Wenn die Entscheidung `\"rechts\"` ist, **return** den Satz: `\"Du kletterst einen Berg hinauf und siehst einen Drachen am Horizont!\"`\n",
    "        - Ansonsten **return** den Satz: `\"Du bist unentschlossen und bleibst stehen. Plötzlich wirst du von einem Eichhörnchen mit einer Nuss beworfen.\"`\n",
    "    - Frage den Benutzer, welchen Weg er wählt, und gib ihm mit deiner Funktion die passende Antwort."
   ]
  },
  {
   "cell_type": "code",
   "execution_count": null,
   "metadata": {},
   "outputs": [],
   "source": [
    "# Dein Code hier"
   ]
  }
 ],
 "metadata": {
  "kernelspec": {
   "display_name": "Python 3",
   "language": "python",
   "name": "python3"
  },
  "language_info": {
   "name": "python",
   "version": "3.13.7"
  }
 },
 "nbformat": 4,
 "nbformat_minor": 4
}
