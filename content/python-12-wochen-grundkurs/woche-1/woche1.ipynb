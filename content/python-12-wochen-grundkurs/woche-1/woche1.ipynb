{
 "cells": [
  {
   "cell_type": "markdown",
   "metadata": {},
   "source": [
    "# Woche 1: Einführung und erste Programme\n",
    "\n",
    "## Ziele\n",
    "- wir verstehen, was Programmierung ist und wofür man sie verwendet\n",
    "- Python als Programmiersprache kennenlernen\n",
    "- Erste Programme schreiben und ausführen\n",
    "- Einfache Ausgabe mit print()\n",
    "- die Idee von Variablen verstehen"
   ]
  },
  {
   "cell_type": "markdown",
   "metadata": {},
   "source": [
    "## 1. Was ist Programmierung?\n",
    "\n",
    "Programmieren bedeutet, dem Computer Anweisungen in einer Sprache zu geben, die er verstehen kann.\n",
    "\n",
    "**Beispiele aus dem Alltag:**\n",
    "- Apps auf dem Smartphone\n",
    "- Computerspiele\n",
    "- Webseiten\n",
    "- Taschenrechner\n",
    "- Navigationssysteme"
   ]
  },
  {
   "cell_type": "markdown",
   "metadata": {},
   "source": [
    "## 2. Python als Programmiersprache\n",
    "\n",
    "**Warum Python?**\n",
    "- Einfach zu lernen und zu verstehen\n",
    "- Sehr beliebt in der Programmiererwelt\n",
    "- Vielseitig einsetzbar (Web, Datenanalyse, KI, Spiele...)\n",
    "- Große Community und viele Hilfestellungen verfügbar\n",
    "\n",
    "**Entwicklungsumgebungen:**\n",
    "- Thonny (besonders für Anfänger)\n",
    "- IDLE (kommt mit Python mit)\n",
    "- Visual Studio Code\n",
    "- Jupyter Notebooks (wie dieses hier!)"
   ]
  },
  {
   "cell_type": "markdown",
   "metadata": {},
   "source": [
    "## 3. Erstes Python-Programm: \"Hello World\"\n",
    "\n",
    "Das erste Programm, das Programmierer traditionell schreiben, gibt \"Hello World\" aus."
   ]
  },
  {
   "cell_type": "code",
   "execution_count": null,
   "metadata": {},
   "outputs": [],
   "source": [
    "# Unser erstes Python-Programm\n"
   ]
  },
  {
   "cell_type": "code",
   "execution_count": null,
   "metadata": {},
   "outputs": [],
   "source": [
    "# Probiere es auf Deutsch aus:\n"
   ]
  },
  {
   "cell_type": "markdown",
   "metadata": {},
   "source": [
    "## 4. Grundlagen der Ausgabe: print()\n",
    "\n",
    "Die `print()`-Funktion gibt Text auf dem Bildschirm aus.\n",
    "(Funktionen behandeln wir in 2 Wochen)\n",
    "\n",
    "**Wichtige Regeln:**\n",
    "- Text muss in den Klammern stehen\n",
    "- Text muss in Anführungszeichen stehen: `\"` oder `'`\n",
    "- Mehrere print-Befehle werden untereinander ausgegeben"
   ]
  },
  {
   "cell_type": "code",
   "execution_count": null,
   "metadata": {},
   "outputs": [],
   "source": [
    "# Mehrere print-Befehle hintereinander\n",
    "print(\"Erste Zeile\")\n",
    "print(\"Zweite Zeile\")\n",
    "print(\"Dritte Zeile\")"
   ]
  },
  {
   "cell_type": "code",
   "execution_count": null,
   "metadata": {},
   "outputs": [],
   "source": [
    "# Verschiedene Anführungszeichen funktionieren\n",
    "print(\"Mit doppelten Anführungszeichen\")\n",
    "print('Mit einfachen Anführungszeichen')"
   ]
  },
  {
   "cell_type": "markdown",
   "metadata": {},
   "source": [
    "## 5. Einführung in Variablen\n",
    "\n",
    "**Was sind Variablen?**\n",
    "\n",
    "Variablen sind wie Behälter oder Platzhalter für Informationen. Sie können verschiedene Werte speichern:\n",
    "- Namen (Text)\n",
    "- Zahlen\n",
    "- Und vieles mehr\n",
    "\n",
    "**Beispiele für gute Variablennamen:**\n",
    "- `name`\n",
    "- `alter`\n",
    "- `punkte`\n",
    "- `lieblings_farbe`"
   ]
  },
  {
   "cell_type": "code",
   "execution_count": null,
   "metadata": {},
   "outputs": [],
   "source": [
    "# Variable erstellen \"name\" und mit print() ausgeben\n"
   ]
  },
  {
   "cell_type": "code",
   "execution_count": null,
   "metadata": {},
   "outputs": [],
   "source": [
    "# Variable in einem Satz verwenden \n"
   ]
  },
  {
   "cell_type": "code",
   "execution_count": null,
   "metadata": {},
   "outputs": [],
   "source": [
    "# Mehrere Variablen mit Namen und Alter und in einem Satz ausgeben"
   ]
  },
  {
   "cell_type": "markdown",
   "metadata": {},
   "source": [
    "## Praktische Übungen\n",
    "\n",
    "### Einfache Übung\n",
    "Schreibe ein Programm, das deinen Namen **fest** im Code hinterlegt hat und diesen Namen auf dem Bildschirm ausgibt.\n",
    "\n",
    "**Beispiel-Ausgabe:** \"Hallo Anna!\""
   ]
  },
  {
   "cell_type": "code",
   "execution_count": null,
   "metadata": {},
   "outputs": [],
   "source": [
    "# Einfache Übung - Lösung hier schreiben:\n",
    "# Tipp: Verwende eine Variable für deinen Namen\n",
    "\n"
   ]
  },
  {
   "cell_type": "markdown",
   "metadata": {},
   "source": [
    "### Mittlere Übung\n",
    "Schreibe ein Programm, das den Nutzer **auffordert, sein Alter einzugeben** (variable Eingabe) und danach die Ausgabe macht: \"Du bist X Jahre alt.\"\n",
    "\n",
    "*Hinweis: Verwende `input()` für die Eingabe*"
   ]
  },
  {
   "cell_type": "code",
   "execution_count": null,
   "metadata": {},
   "outputs": [],
   "source": [
    "# Mittlere Übung - Lösung hier schreiben:\n",
    "# Tipp: alter = input(\"Wie alt bist du? \")\n",
    "\n"
   ]
  },
  {
   "cell_type": "markdown",
   "metadata": {},
   "source": [
    "## Musterlösungen\n",
    "\n",
    "### Lösung Einfache Übung:"
   ]
  },
  {
   "cell_type": "code",
   "execution_count": null,
   "metadata": {},
   "outputs": [],
   "source": [
    "# Musterlösung Einfache Übung\n",
    "mein_name = \"Anna\"\n",
    "print(\"Hallo \" + mein_name + \"!\")"
   ]
  },
  {
   "cell_type": "markdown",
   "metadata": {},
   "source": [
    "### Lösung Mittlere Übung:"
   ]
  },
  {
   "cell_type": "code",
   "execution_count": null,
   "metadata": {},
   "outputs": [],
   "source": [
    "# Musterlösung Mittlere Übung\n",
    "alter = input(\"Wie alt bist du? \")\n",
    "print(\"Du bist \" + alter + \" Jahre alt.\")"
   ]
  },
  {
   "cell_type": "markdown",
   "metadata": {},
   "source": [
    "## Hausaufgaben\n",
    "\n",
    "### Aufgabe 1: Namen in verschiedenen Schreibweisen\n",
    "Schreibe drei Programme mit jeweils einem **festen** Namen im Code:\n",
    "- einmal alles in Großbuchstaben\n",
    "- einmal alles in Kleinbuchstaben  \n",
    "- einmal gemischt\n",
    "\n",
    "*Tipp: Verwende `.upper()`, `.lower()` und normale Schreibweise*"
   ]
  },
  {
   "cell_type": "code",
   "execution_count": null,
   "metadata": {},
   "outputs": [],
   "source": [
    "# Hausaufgabe 1 - Programm 1 (Großbuchstaben)\n",
    "\n"
   ]
  },
  {
   "cell_type": "code",
   "execution_count": null,
   "metadata": {},
   "outputs": [],
   "source": [
    "# Hausaufgabe 1 - Programm 2 (Kleinbuchstaben)\n",
    "\n"
   ]
  },
  {
   "cell_type": "code",
   "execution_count": null,
   "metadata": {},
   "outputs": [],
   "source": [
    "# Hausaufgabe 1 - Programm 3 (Gemischt)\n",
    "\n"
   ]
  },
  {
   "cell_type": "markdown",
   "metadata": {},
   "source": [
    "### Aufgabe 2: Erklärung und Beispiele für Variablen\n",
    "\n",
    "**Schreibe hier eine kurze Erklärung, was eine Variable ist:**\n",
    "\n",
    "*(Hier deine Antwort eintragen)*\n",
    "\n",
    "**Gib mindestens drei Beispiele für Variablennamen:**\n",
    "\n",
    "1. \n",
    "2. \n",
    "3. \n",
    "\n",
    "*(Beispiele: alter, punkte, name, lieblings_farbe, anzahl_geschwister)*"
   ]
  },
  {
   "cell_type": "markdown",
   "metadata": {},
   "source": [
    "## Zusätzliche Experimente\n",
    "\n",
    "Probiere hier weitere Code-Beispiele aus:"
   ]
  },
  {
   "cell_type": "code",
   "execution_count": null,
   "metadata": {},
   "outputs": [],
   "source": [
    "# Freier Bereich zum Experimentieren\n",
    "\n"
   ]
  },
  {
   "cell_type": "markdown",
   "metadata": {},
   "source": [
    "## Zusammenfassung Woche 1\n",
    "\n",
    "**Was wir gelernt haben:**\n",
    "- Was Programmierung ist und wofür sie verwendet wird\n",
    "- Warum Python eine gute Programmiersprache für Anfänger ist\n",
    "- Wie man Text mit `print()` ausgibt\n",
    "- Was Variablen sind und wie man sie verwendet\n",
    "- Wie man einfache Programme schreibt\n",
    "\n",
    "**Nächste Woche:**\n",
    "- Mehr über Variablen und Datentypen\n",
    "- Benutzereingaben mit `input()`\n",
    "- Einfache Berechnungen"
   ]
  }
 ],
 "metadata": {
  "kernelspec": {
   "display_name": "Python 3",
   "language": "python",
   "name": "python3"
  },
  "language_info": {
   "codemirror_mode": {
    "name": "ipython",
    "version": 3
   },
   "file_extension": ".py",
   "mimetype": "text/x-python",
   "name": "python",
   "nbconvert_exporter": "python",
   "pygments_lexer": "ipython3",
   "version": "3.8.5"
  }
 },
 "nbformat": 4,
 "nbformat_minor": 4
}
